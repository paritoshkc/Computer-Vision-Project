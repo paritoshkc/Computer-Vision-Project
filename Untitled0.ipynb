{
  "nbformat": 4,
  "nbformat_minor": 0,
  "metadata": {
    "colab": {
      "name": "Untitled0.ipynb",
      "provenance": [],
      "collapsed_sections": [],
      "include_colab_link": true
    },
    "kernelspec": {
      "name": "python3",
      "display_name": "Python 3"
    }
  },
  "cells": [
    {
      "cell_type": "markdown",
      "metadata": {
        "id": "view-in-github",
        "colab_type": "text"
      },
      "source": [
        "<a href=\"https://colab.research.google.com/github/paritoshkc/Computer-Vision-Project/blob/master/Untitled0.ipynb\" target=\"_parent\"><img src=\"https://colab.research.google.com/assets/colab-badge.svg\" alt=\"Open In Colab\"/></a>"
      ]
    },
    {
      "cell_type": "markdown",
      "metadata": {
        "id": "gOIRKR_KW7I5",
        "colab_type": "text"
      },
      "source": [
        "COMPUTER VISION ASSIGNMENT 2\n",
        "# 1.a Compute and display \n",
        "    1.Mean image\n",
        "    2.First two principal components which have the highest eigenvalues\n",
        "#Loading the keras mnist Dataset and filtering images of 1 digit \n",
        "    \n",
        "\n",
        "*   [References used for loading Keras MNIST dataset]\n",
        "    (https://medium.com/@ashok.tankala/build-the-mnist-model-with-your-own-handwritten-digits-using-tensorflow-keras-and-python-f8ec9f871fd3)\n",
        "*   Total images available are 70000 with 60000 are set aside for training and 10000 for test images. \n",
        "* reshaping the train images to dimensions of 28x28 \n",
        "* Filter the values based on the labels defined for each digit in *y_train* to create filters that can be used to find digits in *X_train* and *X_test*\n",
        "\n",
        "\n"
      ]
    },
    {
      "cell_type": "code",
      "metadata": {
        "id": "QAtakgqPWxVD",
        "colab_type": "code",
        "colab": {
          "base_uri": "https://localhost:8080/",
          "height": 51
        },
        "outputId": "4d1eb302-4600-4727-fca9-6a2e27e60cf4"
      },
      "source": [
        "from keras.datasets import mnist\n",
        "from PIL import Image\n",
        "from numpy import *\n",
        "\n",
        "(X_train, y_train), (X_test, y_test) = mnist.load_data()\n",
        "\n",
        "num_pixels = 784\n",
        "\n",
        "#\n",
        "X_train = X_train.reshape(X_train.shape[0],num_pixels)\n",
        "X_test = X_test.reshape(X_test.shape[0],num_pixels)\n",
        "\n",
        "\n",
        "print(X_train.shape)\n",
        "print(X_test.shape)\n",
        "train_filter = np.where(y_train == 5 )\n",
        "X_test_5=X_train[train_filter]"
      ],
      "execution_count": 40,
      "outputs": [
        {
          "output_type": "stream",
          "text": [
            "(60000, 784)\n",
            "(10000, 784)\n"
          ],
          "name": "stdout"
        }
      ]
    },
    {
      "cell_type": "code",
      "metadata": {
        "id": "PRjDhllVJmMR",
        "colab_type": "code",
        "colab": {
          "base_uri": "https://localhost:8080/",
          "height": 1000
        },
        "outputId": "6ed06a66-f1bd-44e4-96fc-ee4c871b99c2"
      },
      "source": [
        "import cv2\n",
        "from google.colab.patches import cv2_imshow\n",
        "from PIL import Image\n",
        "import numpy as np\n",
        "from sklearn.decomposition import PCA\n",
        "from matplotlib import pyplot as plt\n",
        "from keras.datasets import mnist\n",
        "\n",
        "img_f=np.zeros((28*7,28*10))\n",
        "img_f_m=np.zeros((28*7,280))\n",
        "\n",
        "\n",
        "\n",
        "def get_grey_Image(path):\n",
        "\n",
        "  image = cv2.imread(path)\n",
        "  gray = cv2.cvtColor(image, cv2.COLOR_BGR2GRAY)\n",
        "  width = 280\n",
        "  height = 28*7\n",
        "  dim = (width, height)\n",
        " \n",
        "    # resize image\n",
        "  resized_gray = cv2.resize(gray, dim, interpolation = cv2.INTER_AREA)\n",
        "  return resized_gray\n",
        "\n",
        "def sliding_windo(image, stepSize, windowSize):\n",
        "\n",
        "  print(image.shape , windowSize.shape)\n",
        "  (w_width, w_height) = (28,28) # window size\n",
        "  print(image.shape[1], image.shape[0])\n",
        "  for x in range(0, image.shape[0]  , stepSize):\n",
        "    for y in range(0, image.shape[1] , stepSize):\n",
        "        \n",
        "        #print('dimensions',x:x,y:y,w_width,w_height)\n",
        "        window = image[x:x + w_width, y:y + w_height]\n",
        "        #show_images_s(window)\n",
        "        img_f_m[x:x + w_width, y:y + w_height]=(((window-windowSize)**2)-pca_component).sum(axis=-1).sum(axis=-1)\n",
        "\n",
        "  #stepSize = 50\n",
        "  # print(image.shape , windowSize.shape)\n",
        "  # (w_width, w_height) = (28,28) # window size\n",
        "  # print( image.shape[0])\n",
        "  # for x in range(0, image.shape[0]  , stepSize):\n",
        "  #   for y in range(0, image.shape[1] , stepSize):\n",
        "        \n",
        "  #       #print(x,y,w_width,w_height)\n",
        "  #       window = image[x:x + w_width, y:y + w_height]\n",
        "  #       #show_images_s(window)\n",
        "  #       img_f[x:x + w_width, y:y + w_height]=(((window-windowSize)**2)).sum(axis=-1).sum(axis=-1)\n",
        "  #       #show_images_s(np.sqrt(np.matmul(window,t_im[1])))\n",
        "\n",
        "path='/content/drive/My Drive/Colab Notebooks/test_Image.PNG'\n",
        "img=get_grey_Image(path)\n",
        "(X_train, y_train), (X_test, y_test) = mnist.load_data()\n",
        "print(y_train.shape)\n",
        "num_pixels = 784\n",
        "X_train = X_train.reshape(X_train.shape[0],num_pixels)\n",
        "X_test = X_test.reshape(X_test.shape[0],num_pixels)\n",
        "print(y_train.shape)\n",
        "train_filter = np.where(y_train == 1)\n",
        "X_test_1=X_train[train_filter]\n",
        "X_test_1.reshape(X_test_1.shape[0],28,28)\n",
        "print('test#######33',X_test_1.shape)\n",
        "\n",
        "pca = PCA(n_components=784)\n",
        "pca.fit(X_test_1)\n",
        "a=pca.components_\n",
        "comp=np.array([])\n",
        "# for i in range(a.shape[0]):\n",
        "#   comp=np.append(comp,a[i]**2)\n",
        "# summs=np.sum(comp)\n",
        "# print('summs',summs)\n",
        "\n",
        "\n",
        "pca_component=np.sum(np.square(a))\n",
        "#print(pca_component)\n",
        "principalComponents = pca.transform(X_test_1)\n",
        "\n",
        "approximation = pca.inverse_transform(principalComponents)\n",
        "plt.figure()\n",
        "plt.title('image')\n",
        "cv2_imshow(img)\n",
        "\n",
        "plt.figure()\n",
        "plt.title('mean image')\n",
        "plt.imshow(pca.mean_.reshape(28,28), interpolation='nearest')\n",
        "plt.show()\n",
        "sliding_windo(img,28,pca.mean_.reshape(28,28))\n",
        "plt.figure(figsize=(10,10),constrained_layout=False)\n",
        "plt.title('DFFS image')\n",
        "plt.imshow(img_f_m,interpolation='nearest',cmap='Greys')\n",
        "plt.show()\n",
        "# img_f_m=np.zeros((28*7,280))\n"
      ],
      "execution_count": 33,
      "outputs": [
        {
          "output_type": "stream",
          "text": [
            "(60000,)\n",
            "(60000,)\n",
            "test#######33 (6742, 784)\n"
          ],
          "name": "stdout"
        },
        {
          "output_type": "display_data",
          "data": {
            "image/png": "[encoded data removed]",
            "text/plain": [
              "<PIL.Image.Image image mode=L size=280x196 at 0x7F7D632B8128>"
            ]
          },
          "metadata": {
            "tags": []
          }
        },
        {
          "output_type": "display_data",
          "data": {
            "image/png": "[encoded data removed]",
            "text/plain": [
              "<Figure size 432x288 with 1 Axes>"
            ]
          },
          "metadata": {
            "tags": []
          }
        },
        {
          "output_type": "display_data",
          "data": {
            "image/png": "[encoded data removed]",
            "text/plain": [
              "<Figure size 432x288 with 1 Axes>"
            ]
          },
          "metadata": {
            "tags": []
          }
        },
        {
          "output_type": "stream",
          "text": [
            "(196, 280) (28, 28)\n",
            "280 196\n"
          ],
          "name": "stdout"
        },
        {
          "output_type": "display_data",
          "data": {
            "image/png": "[encoded data removed]",
            "text/plain": [
              "<Figure size 720x720 with 1 Axes>"
            ]
          },
          "metadata": {
            "tags": []
          }
        }
      ]
    },
    {
      "cell_type": "code",
      "metadata": {
        "id": "RqBQzbHBKTRo",
        "colab_type": "code",
        "colab": {
          "base_uri": "https://localhost:8080/",
          "height": 122
        },
        "outputId": "2645a482-8942-4e36-a74d-acabb9cfc068"
      },
      "source": [
        "from google.colab import drive\n",
        "drive.mount('/content/drive')"
      ],
      "execution_count": 3,
      "outputs": [
        {
          "output_type": "stream",
          "text": [
            "Go to this URL in a browser: https://accounts.google.com/o/oauth2/auth?client_id=947318989803-6bn6qk8qdgf4n4g3pfee6491hc0brc4i.apps.googleusercontent.com&redirect_uri=urn%3Aietf%3Awg%3Aoauth%3A2.0%3Aoob&scope=email%20https%3A%2F%2Fwww.googleapis.com%2Fauth%2Fdocs.test%20https%3A%2F%2Fwww.googleapis.com%2Fauth%2Fdrive%20https%3A%2F%2Fwww.googleapis.com%2Fauth%2Fdrive.photos.readonly%20https%3A%2F%2Fwww.googleapis.com%2Fauth%2Fpeopleapi.readonly&response_type=code\n",
            "\n",
            "Enter your authorization code:\n",
            "··········\n",
            "Mounted at /content/drive\n"
          ],
          "name": "stdout"
        }
      ]
    },
    {
      "cell_type": "code",
      "metadata": {
        "id": "803Qgn8nk-Nx",
        "colab_type": "code",
        "colab": {}
      },
      "source": [
        "import cv2\n",
        "from google.colab.patches import cv2_imshow\n",
        "from PIL import Image\n",
        "\n",
        "img_f=np.zeros((28*7,280))\n",
        "img_f_m=np.zeros((28*7,280))\n",
        "\n",
        "def get_grey_Image(path):\n",
        "\n",
        "  image = cv2.imread(path)\n",
        "  gray = cv2.cvtColor(image, cv2.COLOR_BGR2GRAY)\n",
        "  width = 280\n",
        "  height = 28*7\n",
        "  dim = (width, height)\n",
        " \n",
        "    # resize image\n",
        "  resized_gray = cv2.resize(gray, dim, interpolation = cv2.INTER_AREA)\n",
        "  return resized_gray\n",
        "\n",
        "\n",
        "\n",
        "def sliding_windo(image, stepSize, windowSize):\n",
        "  #stepSize = 50\n",
        "  print(image.shape , windowSize.shape)\n",
        "  (w_width, w_height) = (28,28) # window size\n",
        "  print( image.shape[0])\n",
        "  for x in range(0, image.shape[0]  , stepSize):\n",
        "    for y in range(0, image.shape[1] , stepSize):\n",
        "        \n",
        "        #print(x,y,w_width,w_height)\n",
        "        window = image[x:x + w_width, y:y + w_height]\n",
        "        #show_images_s(window)\n",
        "        img_f[x:x + w_width, y:y + w_height]=np.sqrt(np.matmul(window,t_im[1]))\n",
        "        #show_images_s(np.sqrt(np.matmul(window,t_im[1])))\n",
        "\n",
        "\t# for y in range(0, image.shape[0], stepSize):\n",
        "\t#  for x in range(0, image.shape[1], stepSize):\n",
        "  #   window = image[x:x + w_width, y:y + w_height, :]\n",
        "\t# \t\t# yield the current window\n",
        "\t# \t\tyield (x, y, image[y:y + windowSize[1], x:x + windowSize[0]])\n",
        "\n",
        "\n",
        "def sliding_window_mea(image, stepSize, mean_img_5):\n",
        "  #stepSize = 50\n",
        "  print(image.shape , mean_img_5.shape)\n",
        "  (w_width, w_height) = (28,28) # window size\n",
        "  print(image.shape[1], image.shape[0])\n",
        "  for x in range(0, image.shape[0]  , stepSize):\n",
        "    for y in range(0, image.shape[1] , stepSize):\n",
        "        \n",
        "        #print('dimensions',x:x,y:y,w_width,w_height)\n",
        "        window = image[x:x + w_width, y:y + w_height]\n",
        "        #show_images_s(window)\n",
        "        img_f_m[x:x + w_width, y:y + w_height]=(window-mean_img_5).sum(axis=-1).sum(axis=-1)\n",
        "\n",
        "img=get_grey_Image(path)\n",
        "cv2_imshow( img)\n",
        "print(img.shape)\n",
        "\n",
        "sliding_window_mea(img,28,mean_img_5.reshape(28,28))\n",
        "#cv2_imshow(img_f_m.reshape(280,28*10))\n",
        "figure(figsize=(10,10),constrained_layout=False)\n",
        "plt.title('SSD image')\n",
        "plt.imshow(img_f_m, interpolation='nearest')\n",
        "plt.show()"
      ],
      "execution_count": 0,
      "outputs": []
    },
    {
      "cell_type": "code",
      "metadata": {
        "id": "Fbt6i_pI-Hi5",
        "colab_type": "code",
        "colab": {}
      },
      "source": [
        ""
      ],
      "execution_count": 0,
      "outputs": []
    }
  ]
}